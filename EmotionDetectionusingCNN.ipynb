{
  "nbformat": 4,
  "nbformat_minor": 0,
  "metadata": {
    "colab": {
      "provenance": [],
      "gpuType": "T4"
    },
    "kernelspec": {
      "name": "python3",
      "display_name": "Python 3"
    },
    "language_info": {
      "name": "python"
    },
    "accelerator": "GPU"
  },
  "cells": [
    {
      "cell_type": "code",
      "execution_count": null,
      "metadata": {
        "id": "myVk2bnicwQa"
      },
      "outputs": [],
      "source": [
        "!mkdir -p ~/.kaggle\n",
        "!cp kaggle.json ~/.kaggle/"
      ]
    },
    {
      "cell_type": "code",
      "source": [
        "!kaggle datasets download -d msambare/fer2013"
      ],
      "metadata": {
        "colab": {
          "base_uri": "https://localhost:8080/"
        },
        "id": "NtzUlmk-f-de",
        "outputId": "a8e55b25-7578-4240-ce56-3a214e409460"
      },
      "execution_count": null,
      "outputs": [
        {
          "output_type": "stream",
          "name": "stdout",
          "text": [
            "Warning: Your Kaggle API key is readable by other users on this system! To fix this, you can run 'chmod 600 /root/.kaggle/kaggle.json'\n",
            "Downloading fer2013.zip to /content\n",
            " 96% 58.0M/60.3M [00:00<00:00, 134MB/s]\n",
            "100% 60.3M/60.3M [00:00<00:00, 119MB/s]\n"
          ]
        }
      ]
    },
    {
      "cell_type": "code",
      "source": [
        "import zipfile\n",
        "zip_ref = zipfile.ZipFile('/content/fer2013.zip', 'r')\n",
        "zip_ref.extractall('/content')\n",
        "zip_ref.close()"
      ],
      "metadata": {
        "id": "CJn-7Ptzg2nZ"
      },
      "execution_count": null,
      "outputs": []
    },
    {
      "cell_type": "code",
      "source": [
        "import keras\n",
        "from keras.models import Sequential\n",
        "from keras.layers import Conv2D, MaxPooling2D, Dense, Dropout, Flatten\n",
        "from keras.optimizers import Adam\n",
        "from keras.preprocessing.image import ImageDataGenerator\n",
        "import cv2\n",
        "import warnings\n",
        "warnings.filterwarnings('ignore')"
      ],
      "metadata": {
        "id": "3LZUk7FXh6K_"
      },
      "execution_count": null,
      "outputs": []
    },
    {
      "cell_type": "code",
      "source": [
        "# Initialize image data generator with rescaling\n",
        "train_data_gen = ImageDataGenerator(rescale=1./255)\n",
        "validation_data_gen = ImageDataGenerator(rescale=1./255)"
      ],
      "metadata": {
        "id": "bef4JetFiPFw"
      },
      "execution_count": null,
      "outputs": []
    },
    {
      "cell_type": "code",
      "source": [
        "\n",
        "# Preprocess all test images from EmotionsData folder\n",
        "train_generator = train_data_gen.flow_from_directory(\n",
        "        '/content/train',\n",
        "        target_size=(48, 48),\n",
        "        batch_size=64,\n",
        "        color_mode=\"grayscale\",\n",
        "        class_mode='categorical')\n",
        "\n",
        "# Preprocess all train images from EmotionsData folder\n",
        "validation_generator = validation_data_gen.flow_from_directory(\n",
        "        '/content/test',\n",
        "        target_size=(48, 48),\n",
        "        batch_size=64,\n",
        "        color_mode=\"grayscale\",\n",
        "        class_mode='categorical')"
      ],
      "metadata": {
        "colab": {
          "base_uri": "https://localhost:8080/"
        },
        "id": "l9MV7NkXiOjc",
        "outputId": "ebd594d0-a1d9-49c7-c9f5-b5940b004b7d"
      },
      "execution_count": null,
      "outputs": [
        {
          "output_type": "stream",
          "name": "stdout",
          "text": [
            "Found 28709 images belonging to 7 classes.\n",
            "Found 7178 images belonging to 7 classes.\n"
          ]
        }
      ]
    },
    {
      "cell_type": "code",
      "source": [
        "# create a convolutional model structure\n",
        "model = Sequential()\n",
        "\n",
        "model.add(Conv2D(64, kernel_size=(3, 3), activation='relu', input_shape=(48, 48, 1)))\n",
        "model.add(Conv2D(64, kernel_size=(3, 3), activation='relu'))\n",
        "model.add(MaxPooling2D(pool_size=(2, 2)))\n",
        "model.add(Dropout(0.25))\n",
        "\n",
        "model.add(Conv2D(128, kernel_size=(3, 3), activation='relu'))\n",
        "model.add(MaxPooling2D(pool_size=(2, 2)))\n",
        "model.add(Conv2D(128, kernel_size=(3, 3), activation='relu'))\n",
        "model.add(MaxPooling2D(pool_size=(2, 2)))\n",
        "model.add(Dropout(0.25))\n",
        "\n",
        "# Flatten the Model\n",
        "model.add(Flatten())\n",
        "model.add(Dense(1024, activation='relu'))\n",
        "model.add(Dropout(0.5))\n",
        "model.add(Dense(7, activation='softmax'))\n",
        "\n",
        "cv2.ocl.setUseOpenCL(False)\n",
        "\n"
      ],
      "metadata": {
        "id": "f0COdzZ2hogB"
      },
      "execution_count": null,
      "outputs": []
    },
    {
      "cell_type": "code",
      "source": [
        "# Compile the model\n",
        "model.compile(loss='categorical_crossentropy', optimizer=Adam(learning_rate=0.0001), metrics=['accuracy'])\n"
      ],
      "metadata": {
        "id": "rILkesewiyEe"
      },
      "execution_count": null,
      "outputs": []
    },
    {
      "cell_type": "code",
      "source": [
        "# Train the neural network/model\n",
        "model_info = model.fit_generator(\n",
        "        train_generator,\n",
        "        steps_per_epoch=28709 // 64,\n",
        "        epochs=20,\n",
        "        validation_data=validation_generator,\n",
        "        validation_steps=7178 // 64)"
      ],
      "metadata": {
        "colab": {
          "base_uri": "https://localhost:8080/"
        },
        "id": "skWPLsWci7OC",
        "outputId": "9449a492-39e7-4f68-961c-b89899c5e900"
      },
      "execution_count": null,
      "outputs": [
        {
          "output_type": "stream",
          "name": "stdout",
          "text": [
            "Epoch 1/20\n",
            "448/448 [==============================] - 28s 35ms/step - loss: 1.8013 - accuracy: 0.2590 - val_loss: 1.7180 - val_accuracy: 0.3224\n",
            "Epoch 2/20\n",
            "448/448 [==============================] - 15s 33ms/step - loss: 1.6290 - accuracy: 0.3676 - val_loss: 1.5511 - val_accuracy: 0.4067\n",
            "Epoch 3/20\n",
            "448/448 [==============================] - 15s 33ms/step - loss: 1.5264 - accuracy: 0.4119 - val_loss: 1.4619 - val_accuracy: 0.4488\n",
            "Epoch 4/20\n",
            "448/448 [==============================] - 16s 36ms/step - loss: 1.4514 - accuracy: 0.4403 - val_loss: 1.3866 - val_accuracy: 0.4688\n",
            "Epoch 5/20\n",
            "448/448 [==============================] - 15s 33ms/step - loss: 1.3902 - accuracy: 0.4721 - val_loss: 1.3381 - val_accuracy: 0.4911\n",
            "Epoch 6/20\n",
            "448/448 [==============================] - 15s 33ms/step - loss: 1.3396 - accuracy: 0.4901 - val_loss: 1.3001 - val_accuracy: 0.5049\n",
            "Epoch 7/20\n",
            "448/448 [==============================] - 15s 33ms/step - loss: 1.2941 - accuracy: 0.5088 - val_loss: 1.2646 - val_accuracy: 0.5188\n",
            "Epoch 8/20\n",
            "448/448 [==============================] - 15s 35ms/step - loss: 1.2582 - accuracy: 0.5238 - val_loss: 1.2411 - val_accuracy: 0.5368\n",
            "Epoch 9/20\n",
            "448/448 [==============================] - 15s 34ms/step - loss: 1.2227 - accuracy: 0.5359 - val_loss: 1.2177 - val_accuracy: 0.5405\n",
            "Epoch 10/20\n",
            "448/448 [==============================] - 15s 33ms/step - loss: 1.1898 - accuracy: 0.5505 - val_loss: 1.2016 - val_accuracy: 0.5442\n",
            "Epoch 11/20\n",
            "448/448 [==============================] - 15s 34ms/step - loss: 1.1576 - accuracy: 0.5618 - val_loss: 1.1881 - val_accuracy: 0.5483\n",
            "Epoch 12/20\n",
            "448/448 [==============================] - 18s 39ms/step - loss: 1.1364 - accuracy: 0.5744 - val_loss: 1.1663 - val_accuracy: 0.5590\n",
            "Epoch 13/20\n",
            "448/448 [==============================] - 15s 33ms/step - loss: 1.1078 - accuracy: 0.5846 - val_loss: 1.1498 - val_accuracy: 0.5692\n",
            "Epoch 14/20\n",
            "448/448 [==============================] - 15s 33ms/step - loss: 1.0803 - accuracy: 0.5961 - val_loss: 1.1326 - val_accuracy: 0.5686\n",
            "Epoch 15/20\n",
            "448/448 [==============================] - 15s 33ms/step - loss: 1.0509 - accuracy: 0.6076 - val_loss: 1.1384 - val_accuracy: 0.5686\n",
            "Epoch 16/20\n",
            "448/448 [==============================] - 15s 33ms/step - loss: 1.0262 - accuracy: 0.6197 - val_loss: 1.1242 - val_accuracy: 0.5819\n",
            "Epoch 17/20\n",
            "448/448 [==============================] - 15s 33ms/step - loss: 1.0069 - accuracy: 0.6252 - val_loss: 1.1110 - val_accuracy: 0.5818\n",
            "Epoch 18/20\n",
            "448/448 [==============================] - 15s 33ms/step - loss: 0.9790 - accuracy: 0.6378 - val_loss: 1.0992 - val_accuracy: 0.5864\n",
            "Epoch 19/20\n",
            "448/448 [==============================] - 15s 33ms/step - loss: 0.9537 - accuracy: 0.6462 - val_loss: 1.0908 - val_accuracy: 0.5904\n",
            "Epoch 20/20\n",
            "448/448 [==============================] - 15s 33ms/step - loss: 0.9288 - accuracy: 0.6577 - val_loss: 1.0874 - val_accuracy: 0.5914\n"
          ]
        }
      ]
    },
    {
      "cell_type": "code",
      "source": [
        "# save model structure in jason file\n",
        "model_json = model.to_json()\n",
        "with open(\"model.json\", \"w\") as json_file:\n",
        "    json_file.write(model_json)\n",
        "\n",
        "# save trained model weight in .h5 file\n",
        "model.save_weights('model.h5')"
      ],
      "metadata": {
        "id": "2gxNwB_xjv3h"
      },
      "execution_count": null,
      "outputs": []
    },
    {
      "cell_type": "code",
      "source": [
        "#TestEmotionDetector\n",
        "import cv2\n",
        "import numpy as np\n",
        "from keras.models import model_from_json\n",
        "\n",
        "\n",
        "emotion_dict = {0: \"Angry\", 1: \"Disgusted\", 2: \"Fearful\", 3: \"Happy\", 4: \"Neutral\", 5: \"Sad\", 6: \"Surprised\"}\n",
        "\n",
        "# load json and create model\n",
        "json_file = open('model.json', 'r')\n",
        "loaded_model_json = json_file.read()\n",
        "json_file.close()\n",
        "emotion_model = model_from_json(loaded_model_json)\n",
        "\n",
        "# load weights into new model\n",
        "emotion_model.load_weights(\"model.h5\")\n",
        "print(\"Loaded model from disk\")\n",
        "\n"
      ],
      "metadata": {
        "colab": {
          "base_uri": "https://localhost:8080/"
        },
        "id": "8rAGmFyEEB3v",
        "outputId": "c6ac9b36-9465-4cf8-97e7-00055cf2fff0"
      },
      "execution_count": null,
      "outputs": [
        {
          "output_type": "stream",
          "name": "stdout",
          "text": [
            "Loaded model from disk\n"
          ]
        }
      ]
    },
    {
      "cell_type": "code",
      "source": [
        "from google.colab.patches import cv2_imshow\n",
        "# start the webcam feed\n",
        "#cap = cv2.VideoCapture(0)\n",
        "\n",
        "# pass here your video path\n",
        "# you may download one from here : https://www.pexels.com/video/three-girls-laughing-5273028/\n",
        "cap = cv2.VideoCapture(\"v3.mp4\")\n",
        "\n",
        "while True:\n",
        "    # Find haar cascade to draw bounding box around face\n",
        "    ret, frame = cap.read()\n",
        "    frame = cv2.resize(frame, (1280, 720))\n",
        "    if not ret:\n",
        "        break\n",
        "    face_detector = cv2.CascadeClassifier('haarcascades/haarcascade_frontalface_default.xml')\n",
        "    gray_frame = cv2.cvtColor(frame, cv2.COLOR_BGR2GRAY)\n",
        "\n",
        "    # detect faces available on camera\n",
        "    num_faces = face_detector.detectMultiScale(gray_frame, scaleFactor=1.3, minNeighbors=5)\n",
        "\n",
        "    # take each face available on the camera and Preprocess it\n",
        "    for (x, y, w, h) in num_faces:\n",
        "        cv2.rectangle(frame, (x, y-50), (x+w, y+h+10), (0, 255, 0), 4)\n",
        "        roi_gray_frame = gray_frame[y:y + h, x:x + w]\n",
        "        cropped_img = np.expand_dims(np.expand_dims(cv2.resize(roi_gray_frame, (48, 48)), -1), 0)\n",
        "\n",
        "        # predict the emotions\n",
        "        emotion_prediction = emotion_model.predict(cropped_img)\n",
        "        maxindex = int(np.argmax(emotion_prediction))\n",
        "        cv2.putText(frame, emotion_dict[maxindex], (x+5, y-20), cv2.FONT_HERSHEY_SIMPLEX, 1, (255, 0, 0), 2, cv2.LINE_AA)\n",
        "\n",
        "    cv2_imshow(frame)\n",
        "    if cv2.waitKey(1) & 0xFF == ord('q'):\n",
        "        break\n",
        "\n",
        "cap.release()\n",
        "cv2.destroyAllWindows()\n"
      ],
      "metadata": {
        "colab": {
          "base_uri": "https://localhost:8080/",
          "height": 263
        },
        "id": "3iWtQxL1EQ9S",
        "outputId": "9669a3f5-b034-4c86-8d6d-f0aacc866aae"
      },
      "execution_count": 22,
      "outputs": [
        {
          "output_type": "error",
          "ename": "error",
          "evalue": "ignored",
          "traceback": [
            "\u001b[0;31m---------------------------------------------------------------------------\u001b[0m",
            "\u001b[0;31merror\u001b[0m                                     Traceback (most recent call last)",
            "\u001b[0;32m<ipython-input-22-fc3309716862>\u001b[0m in \u001b[0;36m<cell line: 9>\u001b[0;34m()\u001b[0m\n\u001b[1;32m     10\u001b[0m     \u001b[0;31m# Find haar cascade to draw bounding box around face\u001b[0m\u001b[0;34m\u001b[0m\u001b[0;34m\u001b[0m\u001b[0m\n\u001b[1;32m     11\u001b[0m     \u001b[0mret\u001b[0m\u001b[0;34m,\u001b[0m \u001b[0mframe\u001b[0m \u001b[0;34m=\u001b[0m \u001b[0mcap\u001b[0m\u001b[0;34m.\u001b[0m\u001b[0mread\u001b[0m\u001b[0;34m(\u001b[0m\u001b[0;34m)\u001b[0m\u001b[0;34m\u001b[0m\u001b[0;34m\u001b[0m\u001b[0m\n\u001b[0;32m---> 12\u001b[0;31m     \u001b[0mframe\u001b[0m \u001b[0;34m=\u001b[0m \u001b[0mcv2\u001b[0m\u001b[0;34m.\u001b[0m\u001b[0mresize\u001b[0m\u001b[0;34m(\u001b[0m\u001b[0mframe\u001b[0m\u001b[0;34m,\u001b[0m \u001b[0;34m(\u001b[0m\u001b[0;36m1280\u001b[0m\u001b[0;34m,\u001b[0m \u001b[0;36m720\u001b[0m\u001b[0;34m)\u001b[0m\u001b[0;34m)\u001b[0m\u001b[0;34m\u001b[0m\u001b[0;34m\u001b[0m\u001b[0m\n\u001b[0m\u001b[1;32m     13\u001b[0m     \u001b[0;32mif\u001b[0m \u001b[0;32mnot\u001b[0m \u001b[0mret\u001b[0m\u001b[0;34m:\u001b[0m\u001b[0;34m\u001b[0m\u001b[0;34m\u001b[0m\u001b[0m\n\u001b[1;32m     14\u001b[0m         \u001b[0;32mbreak\u001b[0m\u001b[0;34m\u001b[0m\u001b[0;34m\u001b[0m\u001b[0m\n",
            "\u001b[0;31merror\u001b[0m: OpenCV(4.8.0) /io/opencv/modules/imgproc/src/resize.cpp:4062: error: (-215:Assertion failed) !ssize.empty() in function 'resize'\n"
          ]
        }
      ]
    },
    {
      "cell_type": "markdown",
      "source": [
        "# New Section"
      ],
      "metadata": {
        "id": "Sp4ht2DsIqcS"
      }
    }
  ]
}